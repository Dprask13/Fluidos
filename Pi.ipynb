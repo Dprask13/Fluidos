{
  "nbformat": 4,
  "nbformat_minor": 0,
  "metadata": {
    "colab": {
      "provenance": [],
      "authorship_tag": "ABX9TyMXyLsyEmkrzx/NtVBvpY5T",
      "include_colab_link": true
    },
    "kernelspec": {
      "name": "python3",
      "display_name": "Python 3"
    },
    "language_info": {
      "name": "python"
    }
  },
  "cells": [
    {
      "cell_type": "markdown",
      "metadata": {
        "id": "view-in-github",
        "colab_type": "text"
      },
      "source": [
        "<a href=\"https://colab.research.google.com/github/Dprask13/Fluidos/blob/main/Pi.ipynb\" target=\"_parent\"><img src=\"https://colab.research.google.com/assets/colab-badge.svg\" alt=\"Open In Colab\"/></a>"
      ]
    },
    {
      "cell_type": "code",
      "execution_count": null,
      "metadata": {
        "id": "Kqu3Q3FrzIuh"
      },
      "outputs": [],
      "source": []
    },
    {
      "cell_type": "code",
      "metadata": {
        "colab": {
          "base_uri": "https://localhost:8080/"
        },
        "id": "b3bc59d8",
        "outputId": "fcf0a812-1ff8-4f4f-9a17-000f546a92dc"
      },
      "source": [
        "import math\n",
        "\n",
        "# Definimos el radio de un círculo\n",
        "radio = 1\n",
        "\n",
        "# Calculamos el diámetro\n",
        "diametro = 2 * radio\n",
        "\n",
        "# Calculamos la circunferencia (usando el valor conocido de Pi para ilustrar la relación)\n",
        "# En un escenario real, medirías la circunferencia y el diámetro\n",
        "circunferencia = 2 * math.pi * radio\n",
        "\n",
        "# Calculamos Pi usando la definición: Pi = Circunferencia / Diámetro\n",
        "pi_calculado = circunferencia / diametro\n",
        "\n",
        "print(f\"El diámetro del círculo es: {diametro}\")\n",
        "print(f\"La circunferencia del círculo es: {circunferencia}\")\n",
        "print(f\"El valor calculado de Pi es: {pi_calculado}\")\n",
        "print(f\"El valor conocido de Pi (math.pi) es: {math.pi}\")"
      ],
      "execution_count": 1,
      "outputs": [
        {
          "output_type": "stream",
          "name": "stdout",
          "text": [
            "El diámetro del círculo es: 2\n",
            "La circunferencia del círculo es: 6.283185307179586\n",
            "El valor calculado de Pi es: 3.141592653589793\n",
            "El valor conocido de Pi (math.pi) es: 3.141592653589793\n"
          ]
        }
      ]
    },
    {
      "cell_type": "markdown",
      "source": [
        "Aquí tienes la explicación línea por línea:\n",
        "\n",
        "import math: Esta línea importa el módulo math de Python, que nos proporciona funciones matemáticas como factorial (para calcular el factorial de un número) y sqrt (para calcular la raíz cuadrada).\n",
        "def calcular_pi_ramanujan(num_terminos):: Define una función llamada calcular_pi_ramanujan que toma un argumento: num_terminos. Este argumento especifica cuántos términos de la serie de Ramanujan se utilizarán para la aproximación.\n",
        "\"\"\" ... \"\"\": Esta es la cadena de documentación (docstring) de la función. Explica qué hace la función, sus argumentos (Args) y qué devuelve (Returns).\n",
        "suma_serie = 0: Inicializa una variable llamada suma_serie a 0. Esta variable acumulará la suma de los términos de la serie de Ramanujan a medida que se calculan.\n",
        "for n in range(num_terminos):: Inicia un bucle for que iterará num_terminos veces. En cada iteración, la variable n tomará valores desde 0 hasta num_terminos - 1. Cada valor de n corresponde a un término en la serie de Ramanujan.\n",
        "numerador = math.factorial(4 * n) * (1103 + 26390 * n): Calcula el numerador del término actual de la serie. Utiliza math.factorial() para calcular el factorial de 4 * n y lo multiplica por la expresión (1103 + 26390 * n).\n",
        "denominador = (math.factorial(n) ** 4) * (396 ** (4 * n)): Calcula el denominador del término actual. Calcula el factorial de n, lo eleva a la cuarta potencia (** 4), y lo multiplica por 396 elevado a la potencia 4 * n (** (4 * n)).\n",
        "suma_serie += numerador / denominador: Divide el numerador por el denominador para obtener el valor del término actual de la serie y lo suma a la variable suma_serie.\n",
        "return (9801 / (2 * math.sqrt(2) * suma_serie)): Después de que el bucle ha terminado de sumar todos los términos especificados, esta línea calcula la aproximación final de Pi. La fórmula de Ramanujan da el valor de 1 / pi, por lo que para obtener pi, dividimos 9801 por 2 * sqrt(2) multiplicado por la suma_serie.\n",
        "numero_de_terminos = 5: Esta línea establece el número de términos que se utilizarán en el cálculo. Puedes cambiar este valor para ver cómo afecta la precisión de la aproximación.\n",
        "pi_aproximado_ramanujan = calcular_pi_ramanujan(numero_de_terminos): Llama a la función calcular_pi_ramanujan con el número de términos especificado y almacena el resultado (la aproximación de Pi) en la variable pi_aproximado_ramanujan.\n",
        "print(f\"Aproximación de Pi usando la serie de Ramanujan con {numero_de_terminos} términos: {pi_aproximado_ramanujan}\"): Imprime la aproximación de Pi calculada.\n",
        "print(f\"Valor conocido de Pi (math.pi): {math.pi}\"): Imprime el valor de Pi proporcionado por el módulo math para que puedas comparar la aproximación con el valor conocido.\n",
        "En resumen, el código implementa la fórmula de la serie infinita de Ramanujan para aproximar el valor de Pi sumando un número específico de términos de la serie. Cuantos más términos se sumen, más precisa será la aproximación, aunque también requerirá más tiempo de cálculo.\n"
      ],
      "metadata": {
        "id": "lo0r1CaF3GZk"
      }
    },
    {
      "cell_type": "code",
      "source": [],
      "metadata": {
        "id": "I5spSQcE3Dzl"
      },
      "execution_count": null,
      "outputs": []
    }
  ]
}